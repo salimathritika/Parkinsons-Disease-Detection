{
 "cells": [
  {
   "cell_type": "code",
   "execution_count": 1,
   "id": "c4f0998a-5fab-4d42-b404-4ae4d0bdc94e",
   "metadata": {},
   "outputs": [],
   "source": [
    "#Importing all the necessary libraries\n",
    "import pandas as pd\n",
    "import seaborn as sb\n",
    "import matplotlib.pyplot as plt\n",
    "from imblearn.over_sampling import RandomOverSampler\n",
    "from sklearn.model_selection import train_test_split\n",
    "from sklearn.preprocessing import MinMaxScaler\n",
    "from sklearn.feature_selection import SelectKBest, chi2\n",
    "from sklearn import metrics\n",
    "from sklearn.svm import SVC\n",
    "from sklearn.linear_model import LogisticRegression\n",
    "from sklearn.neighbors import KNeighborsClassifier\n",
    "from sklearn.naive_bayes import GaussianNB\n",
    "from sklearn.metrics import roc_auc_score as ras\n",
    "from sklearn.metrics import f1_score\n",
    "from sklearn.metrics import accuracy_score\n",
    "from sklearn.metrics import confusion_matrix\n",
    "from sklearn.metrics import precision_score\n",
    "from sklearn.metrics import recall_score"
   ]
  },
  {
   "cell_type": "code",
   "execution_count": 2,
   "id": "9da5fa04-7b3a-442f-a689-5e6a02dd1f8c",
   "metadata": {},
   "outputs": [],
   "source": [
    "#Loading the csv file into a pandas dataframe\n",
    "df=pd.read_csv(\"C:\\\\Users\\\\ritik\\\\Desktop\\\\MIT YEAR 3\\\\5th Sem\\\\B.Tech 5th sem Honours miniproject\\\\pd_speech_features.csv\",skiprows=1)"
   ]
  },
  {
   "cell_type": "code",
   "execution_count": 3,
   "id": "dc8b2c9a-dda1-4269-8776-46c8a4a08c44",
   "metadata": {},
   "outputs": [
    {
     "data": {
      "text/plain": [
       "(756, 755)"
      ]
     },
     "execution_count": 3,
     "metadata": {},
     "output_type": "execute_result"
    }
   ],
   "source": [
    "df.shape"
   ]
  },
  {
   "cell_type": "code",
   "execution_count": 4,
   "id": "0408020e-e1f2-42c9-8292-6dcb80b98ad5",
   "metadata": {},
   "outputs": [
    {
     "data": {
      "text/html": [
       "<div>\n",
       "<style scoped>\n",
       "    .dataframe tbody tr th:only-of-type {\n",
       "        vertical-align: middle;\n",
       "    }\n",
       "\n",
       "    .dataframe tbody tr th {\n",
       "        vertical-align: top;\n",
       "    }\n",
       "\n",
       "    .dataframe thead th {\n",
       "        text-align: right;\n",
       "    }\n",
       "</style>\n",
       "<table border=\"1\" class=\"dataframe\">\n",
       "  <thead>\n",
       "    <tr style=\"text-align: right;\">\n",
       "      <th></th>\n",
       "      <th>id</th>\n",
       "      <th>gender</th>\n",
       "      <th>PPE</th>\n",
       "      <th>DFA</th>\n",
       "      <th>RPDE</th>\n",
       "      <th>numPulses</th>\n",
       "      <th>numPeriodsPulses</th>\n",
       "      <th>meanPeriodPulses</th>\n",
       "      <th>stdDevPeriodPulses</th>\n",
       "      <th>locPctJitter</th>\n",
       "      <th>...</th>\n",
       "      <th>tqwt_kurtosisValue_dec_28</th>\n",
       "      <th>tqwt_kurtosisValue_dec_29</th>\n",
       "      <th>tqwt_kurtosisValue_dec_30</th>\n",
       "      <th>tqwt_kurtosisValue_dec_31</th>\n",
       "      <th>tqwt_kurtosisValue_dec_32</th>\n",
       "      <th>tqwt_kurtosisValue_dec_33</th>\n",
       "      <th>tqwt_kurtosisValue_dec_34</th>\n",
       "      <th>tqwt_kurtosisValue_dec_35</th>\n",
       "      <th>tqwt_kurtosisValue_dec_36</th>\n",
       "      <th>class</th>\n",
       "    </tr>\n",
       "  </thead>\n",
       "  <tbody>\n",
       "    <tr>\n",
       "      <th>0</th>\n",
       "      <td>0</td>\n",
       "      <td>1</td>\n",
       "      <td>0.85247</td>\n",
       "      <td>0.71826</td>\n",
       "      <td>0.57227</td>\n",
       "      <td>240</td>\n",
       "      <td>239</td>\n",
       "      <td>0.008064</td>\n",
       "      <td>0.000087</td>\n",
       "      <td>0.00218</td>\n",
       "      <td>...</td>\n",
       "      <td>1.5620</td>\n",
       "      <td>2.6445</td>\n",
       "      <td>3.8686</td>\n",
       "      <td>4.2105</td>\n",
       "      <td>5.1221</td>\n",
       "      <td>4.4625</td>\n",
       "      <td>2.6202</td>\n",
       "      <td>3.0004</td>\n",
       "      <td>18.9405</td>\n",
       "      <td>1</td>\n",
       "    </tr>\n",
       "    <tr>\n",
       "      <th>1</th>\n",
       "      <td>0</td>\n",
       "      <td>1</td>\n",
       "      <td>0.76686</td>\n",
       "      <td>0.69481</td>\n",
       "      <td>0.53966</td>\n",
       "      <td>234</td>\n",
       "      <td>233</td>\n",
       "      <td>0.008258</td>\n",
       "      <td>0.000073</td>\n",
       "      <td>0.00195</td>\n",
       "      <td>...</td>\n",
       "      <td>1.5589</td>\n",
       "      <td>3.6107</td>\n",
       "      <td>23.5155</td>\n",
       "      <td>14.1962</td>\n",
       "      <td>11.0261</td>\n",
       "      <td>9.5082</td>\n",
       "      <td>6.5245</td>\n",
       "      <td>6.3431</td>\n",
       "      <td>45.1780</td>\n",
       "      <td>1</td>\n",
       "    </tr>\n",
       "    <tr>\n",
       "      <th>2</th>\n",
       "      <td>0</td>\n",
       "      <td>1</td>\n",
       "      <td>0.85083</td>\n",
       "      <td>0.67604</td>\n",
       "      <td>0.58982</td>\n",
       "      <td>232</td>\n",
       "      <td>231</td>\n",
       "      <td>0.008340</td>\n",
       "      <td>0.000060</td>\n",
       "      <td>0.00176</td>\n",
       "      <td>...</td>\n",
       "      <td>1.5643</td>\n",
       "      <td>2.3308</td>\n",
       "      <td>9.4959</td>\n",
       "      <td>10.7458</td>\n",
       "      <td>11.0177</td>\n",
       "      <td>4.8066</td>\n",
       "      <td>2.9199</td>\n",
       "      <td>3.1495</td>\n",
       "      <td>4.7666</td>\n",
       "      <td>1</td>\n",
       "    </tr>\n",
       "    <tr>\n",
       "      <th>3</th>\n",
       "      <td>1</td>\n",
       "      <td>0</td>\n",
       "      <td>0.41121</td>\n",
       "      <td>0.79672</td>\n",
       "      <td>0.59257</td>\n",
       "      <td>178</td>\n",
       "      <td>177</td>\n",
       "      <td>0.010858</td>\n",
       "      <td>0.000183</td>\n",
       "      <td>0.00419</td>\n",
       "      <td>...</td>\n",
       "      <td>3.7805</td>\n",
       "      <td>3.5664</td>\n",
       "      <td>5.2558</td>\n",
       "      <td>14.0403</td>\n",
       "      <td>4.2235</td>\n",
       "      <td>4.6857</td>\n",
       "      <td>4.8460</td>\n",
       "      <td>6.2650</td>\n",
       "      <td>4.0603</td>\n",
       "      <td>1</td>\n",
       "    </tr>\n",
       "    <tr>\n",
       "      <th>4</th>\n",
       "      <td>1</td>\n",
       "      <td>0</td>\n",
       "      <td>0.32790</td>\n",
       "      <td>0.79782</td>\n",
       "      <td>0.53028</td>\n",
       "      <td>236</td>\n",
       "      <td>235</td>\n",
       "      <td>0.008162</td>\n",
       "      <td>0.002669</td>\n",
       "      <td>0.00535</td>\n",
       "      <td>...</td>\n",
       "      <td>6.1727</td>\n",
       "      <td>5.8416</td>\n",
       "      <td>6.0805</td>\n",
       "      <td>5.7621</td>\n",
       "      <td>7.7817</td>\n",
       "      <td>11.6891</td>\n",
       "      <td>8.2103</td>\n",
       "      <td>5.0559</td>\n",
       "      <td>6.1164</td>\n",
       "      <td>1</td>\n",
       "    </tr>\n",
       "  </tbody>\n",
       "</table>\n",
       "<p>5 rows × 755 columns</p>\n",
       "</div>"
      ],
      "text/plain": [
       "   id  gender      PPE      DFA     RPDE  numPulses  numPeriodsPulses  \\\n",
       "0   0       1  0.85247  0.71826  0.57227        240               239   \n",
       "1   0       1  0.76686  0.69481  0.53966        234               233   \n",
       "2   0       1  0.85083  0.67604  0.58982        232               231   \n",
       "3   1       0  0.41121  0.79672  0.59257        178               177   \n",
       "4   1       0  0.32790  0.79782  0.53028        236               235   \n",
       "\n",
       "   meanPeriodPulses  stdDevPeriodPulses  locPctJitter  ...  \\\n",
       "0          0.008064            0.000087       0.00218  ...   \n",
       "1          0.008258            0.000073       0.00195  ...   \n",
       "2          0.008340            0.000060       0.00176  ...   \n",
       "3          0.010858            0.000183       0.00419  ...   \n",
       "4          0.008162            0.002669       0.00535  ...   \n",
       "\n",
       "   tqwt_kurtosisValue_dec_28  tqwt_kurtosisValue_dec_29  \\\n",
       "0                     1.5620                     2.6445   \n",
       "1                     1.5589                     3.6107   \n",
       "2                     1.5643                     2.3308   \n",
       "3                     3.7805                     3.5664   \n",
       "4                     6.1727                     5.8416   \n",
       "\n",
       "   tqwt_kurtosisValue_dec_30  tqwt_kurtosisValue_dec_31  \\\n",
       "0                     3.8686                     4.2105   \n",
       "1                    23.5155                    14.1962   \n",
       "2                     9.4959                    10.7458   \n",
       "3                     5.2558                    14.0403   \n",
       "4                     6.0805                     5.7621   \n",
       "\n",
       "   tqwt_kurtosisValue_dec_32  tqwt_kurtosisValue_dec_33  \\\n",
       "0                     5.1221                     4.4625   \n",
       "1                    11.0261                     9.5082   \n",
       "2                    11.0177                     4.8066   \n",
       "3                     4.2235                     4.6857   \n",
       "4                     7.7817                    11.6891   \n",
       "\n",
       "   tqwt_kurtosisValue_dec_34  tqwt_kurtosisValue_dec_35  \\\n",
       "0                     2.6202                     3.0004   \n",
       "1                     6.5245                     6.3431   \n",
       "2                     2.9199                     3.1495   \n",
       "3                     4.8460                     6.2650   \n",
       "4                     8.2103                     5.0559   \n",
       "\n",
       "   tqwt_kurtosisValue_dec_36  class  \n",
       "0                    18.9405      1  \n",
       "1                    45.1780      1  \n",
       "2                     4.7666      1  \n",
       "3                     4.0603      1  \n",
       "4                     6.1164      1  \n",
       "\n",
       "[5 rows x 755 columns]"
      ]
     },
     "execution_count": 4,
     "metadata": {},
     "output_type": "execute_result"
    }
   ],
   "source": [
    "df.head()"
   ]
  },
  {
   "cell_type": "code",
   "execution_count": 5,
   "id": "b8465731-f434-4b47-84f4-a79f380d9417",
   "metadata": {},
   "outputs": [
    {
     "name": "stdout",
     "output_type": "stream",
     "text": [
      "<class 'pandas.core.frame.DataFrame'>\n",
      "RangeIndex: 756 entries, 0 to 755\n",
      "Columns: 755 entries, id to class\n",
      "dtypes: float64(749), int64(6)\n",
      "memory usage: 4.4 MB\n"
     ]
    }
   ],
   "source": [
    "df.info()"
   ]
  },
  {
   "cell_type": "code",
   "execution_count": 6,
   "id": "f99cd66c-aeb5-4707-bc44-b4640a4cc9ed",
   "metadata": {},
   "outputs": [
    {
     "data": {
      "text/html": [
       "<div>\n",
       "<style scoped>\n",
       "    .dataframe tbody tr th:only-of-type {\n",
       "        vertical-align: middle;\n",
       "    }\n",
       "\n",
       "    .dataframe tbody tr th {\n",
       "        vertical-align: top;\n",
       "    }\n",
       "\n",
       "    .dataframe thead th {\n",
       "        text-align: right;\n",
       "    }\n",
       "</style>\n",
       "<table border=\"1\" class=\"dataframe\">\n",
       "  <thead>\n",
       "    <tr style=\"text-align: right;\">\n",
       "      <th></th>\n",
       "      <th>id</th>\n",
       "      <th>gender</th>\n",
       "      <th>PPE</th>\n",
       "      <th>DFA</th>\n",
       "      <th>RPDE</th>\n",
       "      <th>numPulses</th>\n",
       "      <th>numPeriodsPulses</th>\n",
       "      <th>meanPeriodPulses</th>\n",
       "      <th>stdDevPeriodPulses</th>\n",
       "      <th>locPctJitter</th>\n",
       "      <th>...</th>\n",
       "      <th>tqwt_kurtosisValue_dec_28</th>\n",
       "      <th>tqwt_kurtosisValue_dec_29</th>\n",
       "      <th>tqwt_kurtosisValue_dec_30</th>\n",
       "      <th>tqwt_kurtosisValue_dec_31</th>\n",
       "      <th>tqwt_kurtosisValue_dec_32</th>\n",
       "      <th>tqwt_kurtosisValue_dec_33</th>\n",
       "      <th>tqwt_kurtosisValue_dec_34</th>\n",
       "      <th>tqwt_kurtosisValue_dec_35</th>\n",
       "      <th>tqwt_kurtosisValue_dec_36</th>\n",
       "      <th>class</th>\n",
       "    </tr>\n",
       "  </thead>\n",
       "  <tbody>\n",
       "    <tr>\n",
       "      <th>count</th>\n",
       "      <td>756.000000</td>\n",
       "      <td>756.000000</td>\n",
       "      <td>756.000000</td>\n",
       "      <td>756.000000</td>\n",
       "      <td>756.000000</td>\n",
       "      <td>756.000000</td>\n",
       "      <td>756.000000</td>\n",
       "      <td>756.000000</td>\n",
       "      <td>756.000000</td>\n",
       "      <td>756.000000</td>\n",
       "      <td>...</td>\n",
       "      <td>756.000000</td>\n",
       "      <td>756.000000</td>\n",
       "      <td>756.000000</td>\n",
       "      <td>756.000000</td>\n",
       "      <td>756.000000</td>\n",
       "      <td>756.000000</td>\n",
       "      <td>756.000000</td>\n",
       "      <td>756.000000</td>\n",
       "      <td>756.000000</td>\n",
       "      <td>756.000000</td>\n",
       "    </tr>\n",
       "    <tr>\n",
       "      <th>mean</th>\n",
       "      <td>125.500000</td>\n",
       "      <td>0.515873</td>\n",
       "      <td>0.746284</td>\n",
       "      <td>0.700414</td>\n",
       "      <td>0.489058</td>\n",
       "      <td>323.972222</td>\n",
       "      <td>322.678571</td>\n",
       "      <td>0.006360</td>\n",
       "      <td>0.000383</td>\n",
       "      <td>0.002324</td>\n",
       "      <td>...</td>\n",
       "      <td>26.237251</td>\n",
       "      <td>22.840337</td>\n",
       "      <td>18.587888</td>\n",
       "      <td>13.872018</td>\n",
       "      <td>12.218953</td>\n",
       "      <td>12.375335</td>\n",
       "      <td>14.799230</td>\n",
       "      <td>14.751559</td>\n",
       "      <td>31.481110</td>\n",
       "      <td>0.746032</td>\n",
       "    </tr>\n",
       "    <tr>\n",
       "      <th>std</th>\n",
       "      <td>72.793721</td>\n",
       "      <td>0.500079</td>\n",
       "      <td>0.169294</td>\n",
       "      <td>0.069718</td>\n",
       "      <td>0.137442</td>\n",
       "      <td>99.219059</td>\n",
       "      <td>99.402499</td>\n",
       "      <td>0.001826</td>\n",
       "      <td>0.000728</td>\n",
       "      <td>0.002628</td>\n",
       "      <td>...</td>\n",
       "      <td>42.220693</td>\n",
       "      <td>32.626464</td>\n",
       "      <td>25.537464</td>\n",
       "      <td>20.046029</td>\n",
       "      <td>17.783642</td>\n",
       "      <td>16.341665</td>\n",
       "      <td>15.722502</td>\n",
       "      <td>14.432979</td>\n",
       "      <td>34.230991</td>\n",
       "      <td>0.435568</td>\n",
       "    </tr>\n",
       "    <tr>\n",
       "      <th>min</th>\n",
       "      <td>0.000000</td>\n",
       "      <td>0.000000</td>\n",
       "      <td>0.041551</td>\n",
       "      <td>0.543500</td>\n",
       "      <td>0.154300</td>\n",
       "      <td>2.000000</td>\n",
       "      <td>1.000000</td>\n",
       "      <td>0.002107</td>\n",
       "      <td>0.000011</td>\n",
       "      <td>0.000210</td>\n",
       "      <td>...</td>\n",
       "      <td>1.509800</td>\n",
       "      <td>1.531700</td>\n",
       "      <td>1.582900</td>\n",
       "      <td>1.747200</td>\n",
       "      <td>1.789500</td>\n",
       "      <td>1.628700</td>\n",
       "      <td>1.861700</td>\n",
       "      <td>1.955900</td>\n",
       "      <td>2.364000</td>\n",
       "      <td>0.000000</td>\n",
       "    </tr>\n",
       "    <tr>\n",
       "      <th>25%</th>\n",
       "      <td>62.750000</td>\n",
       "      <td>0.000000</td>\n",
       "      <td>0.762833</td>\n",
       "      <td>0.647053</td>\n",
       "      <td>0.386537</td>\n",
       "      <td>251.000000</td>\n",
       "      <td>250.000000</td>\n",
       "      <td>0.005003</td>\n",
       "      <td>0.000049</td>\n",
       "      <td>0.000970</td>\n",
       "      <td>...</td>\n",
       "      <td>2.408675</td>\n",
       "      <td>3.452800</td>\n",
       "      <td>3.354825</td>\n",
       "      <td>3.077450</td>\n",
       "      <td>2.937025</td>\n",
       "      <td>3.114375</td>\n",
       "      <td>3.665925</td>\n",
       "      <td>3.741275</td>\n",
       "      <td>3.948750</td>\n",
       "      <td>0.000000</td>\n",
       "    </tr>\n",
       "    <tr>\n",
       "      <th>50%</th>\n",
       "      <td>125.500000</td>\n",
       "      <td>1.000000</td>\n",
       "      <td>0.809655</td>\n",
       "      <td>0.700525</td>\n",
       "      <td>0.484355</td>\n",
       "      <td>317.000000</td>\n",
       "      <td>316.000000</td>\n",
       "      <td>0.006048</td>\n",
       "      <td>0.000077</td>\n",
       "      <td>0.001495</td>\n",
       "      <td>...</td>\n",
       "      <td>5.586300</td>\n",
       "      <td>7.062750</td>\n",
       "      <td>6.077400</td>\n",
       "      <td>4.770850</td>\n",
       "      <td>4.300450</td>\n",
       "      <td>4.741450</td>\n",
       "      <td>6.725700</td>\n",
       "      <td>7.334250</td>\n",
       "      <td>10.637250</td>\n",
       "      <td>1.000000</td>\n",
       "    </tr>\n",
       "    <tr>\n",
       "      <th>75%</th>\n",
       "      <td>188.250000</td>\n",
       "      <td>1.000000</td>\n",
       "      <td>0.834315</td>\n",
       "      <td>0.754985</td>\n",
       "      <td>0.586515</td>\n",
       "      <td>384.250000</td>\n",
       "      <td>383.250000</td>\n",
       "      <td>0.007528</td>\n",
       "      <td>0.000171</td>\n",
       "      <td>0.002520</td>\n",
       "      <td>...</td>\n",
       "      <td>28.958075</td>\n",
       "      <td>29.830850</td>\n",
       "      <td>21.944050</td>\n",
       "      <td>13.188000</td>\n",
       "      <td>10.876150</td>\n",
       "      <td>12.201325</td>\n",
       "      <td>21.922050</td>\n",
       "      <td>22.495175</td>\n",
       "      <td>61.125325</td>\n",
       "      <td>1.000000</td>\n",
       "    </tr>\n",
       "    <tr>\n",
       "      <th>max</th>\n",
       "      <td>251.000000</td>\n",
       "      <td>1.000000</td>\n",
       "      <td>0.907660</td>\n",
       "      <td>0.852640</td>\n",
       "      <td>0.871230</td>\n",
       "      <td>907.000000</td>\n",
       "      <td>905.000000</td>\n",
       "      <td>0.012966</td>\n",
       "      <td>0.003483</td>\n",
       "      <td>0.027750</td>\n",
       "      <td>...</td>\n",
       "      <td>239.788800</td>\n",
       "      <td>203.311300</td>\n",
       "      <td>121.542900</td>\n",
       "      <td>102.207000</td>\n",
       "      <td>85.571700</td>\n",
       "      <td>73.532200</td>\n",
       "      <td>62.007300</td>\n",
       "      <td>57.544300</td>\n",
       "      <td>156.423700</td>\n",
       "      <td>1.000000</td>\n",
       "    </tr>\n",
       "  </tbody>\n",
       "</table>\n",
       "<p>8 rows × 755 columns</p>\n",
       "</div>"
      ],
      "text/plain": [
       "               id      gender         PPE         DFA        RPDE   numPulses  \\\n",
       "count  756.000000  756.000000  756.000000  756.000000  756.000000  756.000000   \n",
       "mean   125.500000    0.515873    0.746284    0.700414    0.489058  323.972222   \n",
       "std     72.793721    0.500079    0.169294    0.069718    0.137442   99.219059   \n",
       "min      0.000000    0.000000    0.041551    0.543500    0.154300    2.000000   \n",
       "25%     62.750000    0.000000    0.762833    0.647053    0.386537  251.000000   \n",
       "50%    125.500000    1.000000    0.809655    0.700525    0.484355  317.000000   \n",
       "75%    188.250000    1.000000    0.834315    0.754985    0.586515  384.250000   \n",
       "max    251.000000    1.000000    0.907660    0.852640    0.871230  907.000000   \n",
       "\n",
       "       numPeriodsPulses  meanPeriodPulses  stdDevPeriodPulses  locPctJitter  \\\n",
       "count        756.000000        756.000000          756.000000    756.000000   \n",
       "mean         322.678571          0.006360            0.000383      0.002324   \n",
       "std           99.402499          0.001826            0.000728      0.002628   \n",
       "min            1.000000          0.002107            0.000011      0.000210   \n",
       "25%          250.000000          0.005003            0.000049      0.000970   \n",
       "50%          316.000000          0.006048            0.000077      0.001495   \n",
       "75%          383.250000          0.007528            0.000171      0.002520   \n",
       "max          905.000000          0.012966            0.003483      0.027750   \n",
       "\n",
       "       ...  tqwt_kurtosisValue_dec_28  tqwt_kurtosisValue_dec_29  \\\n",
       "count  ...                 756.000000                 756.000000   \n",
       "mean   ...                  26.237251                  22.840337   \n",
       "std    ...                  42.220693                  32.626464   \n",
       "min    ...                   1.509800                   1.531700   \n",
       "25%    ...                   2.408675                   3.452800   \n",
       "50%    ...                   5.586300                   7.062750   \n",
       "75%    ...                  28.958075                  29.830850   \n",
       "max    ...                 239.788800                 203.311300   \n",
       "\n",
       "       tqwt_kurtosisValue_dec_30  tqwt_kurtosisValue_dec_31  \\\n",
       "count                 756.000000                 756.000000   \n",
       "mean                   18.587888                  13.872018   \n",
       "std                    25.537464                  20.046029   \n",
       "min                     1.582900                   1.747200   \n",
       "25%                     3.354825                   3.077450   \n",
       "50%                     6.077400                   4.770850   \n",
       "75%                    21.944050                  13.188000   \n",
       "max                   121.542900                 102.207000   \n",
       "\n",
       "       tqwt_kurtosisValue_dec_32  tqwt_kurtosisValue_dec_33  \\\n",
       "count                 756.000000                 756.000000   \n",
       "mean                   12.218953                  12.375335   \n",
       "std                    17.783642                  16.341665   \n",
       "min                     1.789500                   1.628700   \n",
       "25%                     2.937025                   3.114375   \n",
       "50%                     4.300450                   4.741450   \n",
       "75%                    10.876150                  12.201325   \n",
       "max                    85.571700                  73.532200   \n",
       "\n",
       "       tqwt_kurtosisValue_dec_34  tqwt_kurtosisValue_dec_35  \\\n",
       "count                 756.000000                 756.000000   \n",
       "mean                   14.799230                  14.751559   \n",
       "std                    15.722502                  14.432979   \n",
       "min                     1.861700                   1.955900   \n",
       "25%                     3.665925                   3.741275   \n",
       "50%                     6.725700                   7.334250   \n",
       "75%                    21.922050                  22.495175   \n",
       "max                    62.007300                  57.544300   \n",
       "\n",
       "       tqwt_kurtosisValue_dec_36       class  \n",
       "count                 756.000000  756.000000  \n",
       "mean                   31.481110    0.746032  \n",
       "std                    34.230991    0.435568  \n",
       "min                     2.364000    0.000000  \n",
       "25%                     3.948750    0.000000  \n",
       "50%                    10.637250    1.000000  \n",
       "75%                    61.125325    1.000000  \n",
       "max                   156.423700    1.000000  \n",
       "\n",
       "[8 rows x 755 columns]"
      ]
     },
     "execution_count": 6,
     "metadata": {},
     "output_type": "execute_result"
    }
   ],
   "source": [
    "df.describe()"
   ]
  },
  {
   "cell_type": "code",
   "execution_count": 7,
   "id": "9edb1530-2d10-4a07-bb35-ba221c90a795",
   "metadata": {},
   "outputs": [
    {
     "name": "stdout",
     "output_type": "stream",
     "text": [
      "Missing values:\n",
      " id                           0\n",
      "gender                       0\n",
      "PPE                          0\n",
      "DFA                          0\n",
      "RPDE                         0\n",
      "                            ..\n",
      "tqwt_kurtosisValue_dec_33    0\n",
      "tqwt_kurtosisValue_dec_34    0\n",
      "tqwt_kurtosisValue_dec_35    0\n",
      "tqwt_kurtosisValue_dec_36    0\n",
      "class                        0\n",
      "Length: 755, dtype: int64\n"
     ]
    }
   ],
   "source": [
    "#Checking for missing values\n",
    "missing_values = df.isnull().sum()\n",
    "print(\"Missing values:\\n\", missing_values)"
   ]
  },
  {
   "cell_type": "code",
   "execution_count": 8,
   "id": "a443231d-404c-4933-93bc-9126ea36bccf",
   "metadata": {},
   "outputs": [],
   "source": [
    "#Aggregating the duplicate rows\n",
    "df=df.groupby('id').mean().reset_index()\n",
    "df.drop(\"id\",axis=1,inplace=True)"
   ]
  },
  {
   "cell_type": "code",
   "execution_count": 9,
   "id": "7d4f7e78-0b0e-47eb-9724-ce9332041241",
   "metadata": {},
   "outputs": [
    {
     "name": "stdout",
     "output_type": "stream",
     "text": [
      "Correlation Matrix:\n",
      "                              gender       PPE       DFA      RPDE  numPulses  \\\n",
      "gender                     1.000000  0.014374  0.104643  0.182123  -0.509785   \n",
      "PPE                        0.014374  1.000000 -0.113344 -0.474091   0.213316   \n",
      "DFA                        0.104643 -0.113344  1.000000  0.171102  -0.296987   \n",
      "RPDE                       0.182123 -0.474091  0.171102  1.000000  -0.556395   \n",
      "numPulses                 -0.509785  0.213316 -0.296987 -0.556395   1.000000   \n",
      "...                             ...       ...       ...       ...        ...   \n",
      "tqwt_kurtosisValue_dec_33  0.131868  0.059702 -0.030422 -0.109201  -0.079303   \n",
      "tqwt_kurtosisValue_dec_34  0.163985  0.081546  0.066398 -0.039366  -0.101547   \n",
      "tqwt_kurtosisValue_dec_35  0.135109  0.077205  0.096407 -0.019258  -0.095644   \n",
      "tqwt_kurtosisValue_dec_36  0.121971  0.075091  0.144736  0.037335  -0.080576   \n",
      "class                      0.182713 -0.103041  0.322357  0.267733  -0.302712   \n",
      "\n",
      "                           numPeriodsPulses  meanPeriodPulses  \\\n",
      "gender                            -0.509089          0.495303   \n",
      "PPE                                0.217252         -0.217844   \n",
      "DFA                               -0.297013          0.269871   \n",
      "RPDE                              -0.560082          0.546524   \n",
      "numPulses                          0.999951         -0.916333   \n",
      "...                                     ...               ...   \n",
      "tqwt_kurtosisValue_dec_33         -0.079230          0.064247   \n",
      "tqwt_kurtosisValue_dec_34         -0.101407          0.066567   \n",
      "tqwt_kurtosisValue_dec_35         -0.095368          0.048322   \n",
      "tqwt_kurtosisValue_dec_36         -0.080401          0.036145   \n",
      "class                             -0.302657          0.227381   \n",
      "\n",
      "                           stdDevPeriodPulses  locPctJitter  locAbsJitter  \\\n",
      "gender                              -0.150848      0.123586      0.163135   \n",
      "PPE                                 -0.485176     -0.436440     -0.414618   \n",
      "DFA                                  0.107424      0.238228      0.230124   \n",
      "RPDE                                 0.376566      0.663059      0.662711   \n",
      "numPulses                           -0.171132     -0.455617     -0.549637   \n",
      "...                                       ...           ...           ...   \n",
      "tqwt_kurtosisValue_dec_33           -0.124216      0.012375      0.026961   \n",
      "tqwt_kurtosisValue_dec_34           -0.109313      0.022507      0.022387   \n",
      "tqwt_kurtosisValue_dec_35           -0.128344      0.000409     -0.002025   \n",
      "tqwt_kurtosisValue_dec_36           -0.110280     -0.003445     -0.010658   \n",
      "class                                0.101268      0.225346      0.216213   \n",
      "\n",
      "                           ...  tqwt_kurtosisValue_dec_28  \\\n",
      "gender                     ...                  -0.117443   \n",
      "PPE                        ...                   0.230616   \n",
      "DFA                        ...                  -0.171115   \n",
      "RPDE                       ...                  -0.385035   \n",
      "numPulses                  ...                   0.307047   \n",
      "...                        ...                        ...   \n",
      "tqwt_kurtosisValue_dec_33  ...                   0.218401   \n",
      "tqwt_kurtosisValue_dec_34  ...                   0.077339   \n",
      "tqwt_kurtosisValue_dec_35  ...                  -0.044380   \n",
      "tqwt_kurtosisValue_dec_36  ...                  -0.214399   \n",
      "class                      ...                  -0.321180   \n",
      "\n",
      "                           tqwt_kurtosisValue_dec_29  \\\n",
      "gender                                      0.000265   \n",
      "PPE                                         0.218607   \n",
      "DFA                                        -0.133140   \n",
      "RPDE                                       -0.348892   \n",
      "numPulses                                   0.200102   \n",
      "...                                              ...   \n",
      "tqwt_kurtosisValue_dec_33                   0.473974   \n",
      "tqwt_kurtosisValue_dec_34                   0.339706   \n",
      "tqwt_kurtosisValue_dec_35                   0.200909   \n",
      "tqwt_kurtosisValue_dec_36                  -0.027691   \n",
      "class                                      -0.206961   \n",
      "\n",
      "                           tqwt_kurtosisValue_dec_30  \\\n",
      "gender                                      0.084258   \n",
      "PPE                                         0.134644   \n",
      "DFA                                        -0.064156   \n",
      "RPDE                                       -0.177054   \n",
      "numPulses                                   0.035223   \n",
      "...                                              ...   \n",
      "tqwt_kurtosisValue_dec_33                   0.726913   \n",
      "tqwt_kurtosisValue_dec_34                   0.595167   \n",
      "tqwt_kurtosisValue_dec_35                   0.458675   \n",
      "tqwt_kurtosisValue_dec_36                   0.259914   \n",
      "class                                      -0.087569   \n",
      "\n",
      "                           tqwt_kurtosisValue_dec_31  \\\n",
      "gender                                      0.104299   \n",
      "PPE                                         0.095019   \n",
      "DFA                                        -0.072142   \n",
      "RPDE                                       -0.110922   \n",
      "numPulses                                  -0.046735   \n",
      "...                                              ...   \n",
      "tqwt_kurtosisValue_dec_33                   0.862847   \n",
      "tqwt_kurtosisValue_dec_34                   0.672313   \n",
      "tqwt_kurtosisValue_dec_35                   0.528720   \n",
      "tqwt_kurtosisValue_dec_36                   0.363643   \n",
      "class                                      -0.033668   \n",
      "\n",
      "                           tqwt_kurtosisValue_dec_32  \\\n",
      "gender                                      0.109056   \n",
      "PPE                                         0.066630   \n",
      "DFA                                        -0.067312   \n",
      "RPDE                                       -0.113132   \n",
      "numPulses                                  -0.062827   \n",
      "...                                              ...   \n",
      "tqwt_kurtosisValue_dec_33                   0.957468   \n",
      "tqwt_kurtosisValue_dec_34                   0.726402   \n",
      "tqwt_kurtosisValue_dec_35                   0.580303   \n",
      "tqwt_kurtosisValue_dec_36                   0.445941   \n",
      "class                                       0.059495   \n",
      "\n",
      "                           tqwt_kurtosisValue_dec_33  \\\n",
      "gender                                      0.131868   \n",
      "PPE                                         0.059702   \n",
      "DFA                                        -0.030422   \n",
      "RPDE                                       -0.109201   \n",
      "numPulses                                  -0.079303   \n",
      "...                                              ...   \n",
      "tqwt_kurtosisValue_dec_33                   1.000000   \n",
      "tqwt_kurtosisValue_dec_34                   0.812157   \n",
      "tqwt_kurtosisValue_dec_35                   0.668839   \n",
      "tqwt_kurtosisValue_dec_36                   0.520094   \n",
      "class                                       0.146804   \n",
      "\n",
      "                           tqwt_kurtosisValue_dec_34  \\\n",
      "gender                                      0.163985   \n",
      "PPE                                         0.081546   \n",
      "DFA                                         0.066398   \n",
      "RPDE                                       -0.039366   \n",
      "numPulses                                  -0.101547   \n",
      "...                                              ...   \n",
      "tqwt_kurtosisValue_dec_33                   0.812157   \n",
      "tqwt_kurtosisValue_dec_34                   1.000000   \n",
      "tqwt_kurtosisValue_dec_35                   0.953832   \n",
      "tqwt_kurtosisValue_dec_36                   0.801711   \n",
      "class                                       0.244632   \n",
      "\n",
      "                           tqwt_kurtosisValue_dec_35  \\\n",
      "gender                                      0.135109   \n",
      "PPE                                         0.077205   \n",
      "DFA                                         0.096407   \n",
      "RPDE                                       -0.019258   \n",
      "numPulses                                  -0.095644   \n",
      "...                                              ...   \n",
      "tqwt_kurtosisValue_dec_33                   0.668839   \n",
      "tqwt_kurtosisValue_dec_34                   0.953832   \n",
      "tqwt_kurtosisValue_dec_35                   1.000000   \n",
      "tqwt_kurtosisValue_dec_36                   0.887037   \n",
      "class                                       0.275216   \n",
      "\n",
      "                           tqwt_kurtosisValue_dec_36     class  \n",
      "gender                                      0.121971  0.182713  \n",
      "PPE                                         0.075091 -0.103041  \n",
      "DFA                                         0.144736  0.322357  \n",
      "RPDE                                        0.037335  0.267733  \n",
      "numPulses                                  -0.080576 -0.302712  \n",
      "...                                              ...       ...  \n",
      "tqwt_kurtosisValue_dec_33                   0.520094  0.146804  \n",
      "tqwt_kurtosisValue_dec_34                   0.801711  0.244632  \n",
      "tqwt_kurtosisValue_dec_35                   0.887037  0.275216  \n",
      "tqwt_kurtosisValue_dec_36                   1.000000  0.325589  \n",
      "class                                       0.325589  1.000000  \n",
      "\n",
      "[754 rows x 754 columns]\n"
     ]
    }
   ],
   "source": [
    "#Correlation matrix\n",
    "corr_matrix = df.corr()\n",
    "print(\"Correlation Matrix:\\n\", corr_matrix)"
   ]
  },
  {
   "cell_type": "code",
   "execution_count": 10,
   "id": "753db153-b613-4fe4-8424-b32feb73c6dd",
   "metadata": {},
   "outputs": [],
   "source": [
    "#this is to remove highly correlated columns to reduce the feature space \n",
    "columns = list(df.columns)\n",
    "for col in columns:\n",
    "    if col == 'class':\n",
    "        continue\n",
    " \n",
    "    filtered_columns = [col]\n",
    "    for col1 in df.columns:\n",
    "        if((col == col1) | (col == 'class')):\n",
    "            continue\n",
    " \n",
    "        val = df[col].corr(df[col1])\n",
    " \n",
    "        if val > 0.7: \n",
    "            columns.remove(col1)  #removes columns if correlation is more than 0.7\n",
    "            continue\n",
    "        else:\n",
    "            filtered_columns.append(col1)\n",
    " \n",
    "    df = df[filtered_columns]"
   ]
  },
  {
   "cell_type": "code",
   "execution_count": 11,
   "id": "dc0271d3-4bef-49da-993c-a8bb61819eb6",
   "metadata": {},
   "outputs": [
    {
     "data": {
      "text/plain": [
       "(252, 287)"
      ]
     },
     "execution_count": 11,
     "metadata": {},
     "output_type": "execute_result"
    }
   ],
   "source": [
    "df.shape"
   ]
  },
  {
   "cell_type": "code",
   "execution_count": 12,
   "id": "caa2d7e7-807d-4e08-bef2-a26340c30227",
   "metadata": {},
   "outputs": [
    {
     "name": "stderr",
     "output_type": "stream",
     "text": [
      "C:\\Users\\ritik\\AppData\\Local\\Temp\\ipykernel_6408\\3084947170.py:8: SettingWithCopyWarning: \n",
      "A value is trying to be set on a copy of a slice from a DataFrame.\n",
      "Try using .loc[row_indexer,col_indexer] = value instead\n",
      "\n",
      "See the caveats in the documentation: https://pandas.pydata.org/pandas-docs/stable/user_guide/indexing.html#returning-a-view-versus-a-copy\n",
      "  filtered_data['class'] = df['class']\n"
     ]
    },
    {
     "data": {
      "text/plain": [
       "(252, 31)"
      ]
     },
     "execution_count": 12,
     "metadata": {},
     "output_type": "execute_result"
    }
   ],
   "source": [
    "#Feature selection to select the 30 most relevant features\n",
    "X = df.drop('class', axis=1)\n",
    "X_norm = MinMaxScaler().fit_transform(X)\n",
    "selector = SelectKBest(chi2, k=30)\n",
    "selector.fit(X_norm, df['class'])\n",
    "filtered_columns = selector.get_support()\n",
    "filtered_data = X.loc[:, filtered_columns]\n",
    "filtered_data['class'] = df['class']\n",
    "df = filtered_data\n",
    "df.shape\n"
   ]
  },
  {
   "cell_type": "code",
   "execution_count": 13,
   "id": "0df6aa30-2a0e-4a37-a574-4838cb584af8",
   "metadata": {},
   "outputs": [
    {
     "data": {
      "image/png": "[encoded data removed]",
      "text/plain": [
       "<Figure size 640x480 with 1 Axes>"
      ]
     },
     "metadata": {},
     "output_type": "display_data"
    }
   ],
   "source": [
    "#To check for imbalanced dataset\n",
    "x = df['class'].value_counts()\n",
    "plt.pie(x.values,\n",
    "        labels = x.index,\n",
    "        autopct='%1.1f%%')\n",
    "plt.show()"
   ]
  },
  {
   "cell_type": "code",
   "execution_count": 14,
   "id": "98ed01fe-081a-448c-a82a-d241d3ab6bcd",
   "metadata": {},
   "outputs": [
    {
     "data": {
      "text/plain": [
       "((201, 30), (51, 30))"
      ]
     },
     "execution_count": 14,
     "metadata": {},
     "output_type": "execute_result"
    }
   ],
   "source": [
    "features = df.drop('class', axis=1)\n",
    "target = df['class']\n",
    "#the dataset is being split into training and validation data\n",
    "#20% of the dataset is used for validation and 80% for training\n",
    "X_train, X_val,Y_train, Y_val = train_test_split(features, target,test_size=0.2,random_state=10)\n",
    "X_train.shape, X_val.shape"
   ]
  },
  {
   "cell_type": "code",
   "execution_count": 15,
   "id": "1631d8bb-77fb-4d26-b51f-3d9e38accb45",
   "metadata": {},
   "outputs": [
    {
     "data": {
      "text/plain": [
       "((302, 30), (302,))"
      ]
     },
     "execution_count": 15,
     "metadata": {},
     "output_type": "execute_result"
    }
   ],
   "source": [
    "# As the data was highly imbalanced we will balance it by adding repetitive rows of minority class.\n",
    "ros = RandomOverSampler(sampling_strategy='minority',\n",
    "                        random_state=0)\n",
    "X, Y = ros.fit_resample(X_train, Y_train)\n",
    "X.shape, Y.shape"
   ]
  },
  {
   "cell_type": "markdown",
   "id": "30bcdb30-9eeb-4a75-a7b8-e6d9c2c1033a",
   "metadata": {},
   "source": [
    "LOGISTIC REGRESSION"
   ]
  },
  {
   "cell_type": "code",
   "execution_count": 16,
   "id": "29eed501-6b6b-4114-80ad-9eef6e3e6919",
   "metadata": {},
   "outputs": [
    {
     "name": "stdout",
     "output_type": "stream",
     "text": [
      "Logistic Regression :\n",
      "Training Accuracy (ROC AUC): 0.8293057322047279\n",
      "Validation Accuracy (ROC AUC): 0.8146718146718146\n",
      "F1 Score: 0.9210526315789473\n",
      "Accuracy: 0.8823529411764706\n",
      "Precision: 0.8974358974358975\n",
      "Recall: 0.9459459459459459\n"
     ]
    },
    {
     "name": "stderr",
     "output_type": "stream",
     "text": [
      "C:\\Users\\ritik\\anaconda3\\envs\\learnPandas\\Lib\\site-packages\\sklearn\\linear_model\\_logistic.py:469: ConvergenceWarning: lbfgs failed to converge (status=1):\n",
      "STOP: TOTAL NO. of ITERATIONS REACHED LIMIT.\n",
      "\n",
      "Increase the number of iterations (max_iter) or scale the data as shown in:\n",
      "    https://scikit-learn.org/stable/modules/preprocessing.html\n",
      "Please also refer to the documentation for alternative solver options:\n",
      "    https://scikit-learn.org/stable/modules/linear_model.html#logistic-regression\n",
      "  n_iter_i = _check_optimize_result(\n"
     ]
    }
   ],
   "source": [
    "lr=LogisticRegression()\n",
    "lr.fit(X, Y)\n",
    "    \n",
    "print('Logistic Regression :')\n",
    "    \n",
    "# Predict probabilities for training set\n",
    "train_preds = lr.predict_proba(X)[:, 1]\n",
    "print('Training Accuracy (ROC AUC):', ras(Y, train_preds))\n",
    "   \n",
    "# Predict probabilities for validation set\n",
    "val_preds_prob = lr.predict_proba(X_val)[:, 1]\n",
    "print('Validation Accuracy (ROC AUC):', ras(Y_val, val_preds_prob))\n",
    "\n",
    "#Get the F1 Score\n",
    "val_preds=lr.predict(X_val)\n",
    "lr_f1=f1_score(Y_val,val_preds)\n",
    "print('F1 Score:', lr_f1)\n",
    "\n",
    "#Get the accuracy\n",
    "lr_acc=accuracy_score(Y_val,val_preds)\n",
    "print('Accuracy:', lr_acc)\n",
    "\n",
    "#Get the precision\n",
    "lr_pre=precision_score(Y_val,val_preds)\n",
    "print('Precision:', lr_pre)\n",
    "\n",
    "#Get the recall\n",
    "lr_rec=recall_score(Y_val,val_preds)\n",
    "print('Recall:', lr_rec)\n"
   ]
  },
  {
   "cell_type": "code",
   "execution_count": 17,
   "id": "15703de8-486a-4af0-8289-da3308d3d80f",
   "metadata": {},
   "outputs": [
    {
     "data": {
      "image/png": "[encoded data removed]",
      "text/plain": [
       "<Figure size 640x480 with 2 Axes>"
      ]
     },
     "metadata": {},
     "output_type": "display_data"
    }
   ],
   "source": [
    "# Compute confusion matrix\n",
    "cm = confusion_matrix(Y_val, lr.predict(X_val))\n",
    "\n",
    "# Plot using seaborn heatmap\n",
    "sb.heatmap(cm, annot=True, fmt='d', cmap='Blues')\n",
    "plt.xlabel('Predicted')\n",
    "plt.ylabel('True')\n",
    "plt.title('Confusion Matrix for Logistic Regression')\n",
    "plt.show()"
   ]
  },
  {
   "cell_type": "code",
   "execution_count": 18,
   "id": "98a5275a-f7f6-4ed5-b3be-380e3cb49f41",
   "metadata": {},
   "outputs": [
    {
     "name": "stdout",
     "output_type": "stream",
     "text": [
      "Classification report for Logistic Regression:\n",
      "              precision    recall  f1-score   support\n",
      "\n",
      "         0.0       0.83      0.71      0.77        14\n",
      "         1.0       0.90      0.95      0.92        37\n",
      "\n",
      "    accuracy                           0.88        51\n",
      "   macro avg       0.87      0.83      0.85        51\n",
      "weighted avg       0.88      0.88      0.88        51\n",
      "\n"
     ]
    }
   ],
   "source": [
    "print('Classification report for Logistic Regression:')\n",
    "print(metrics.classification_report(Y_val, lr.predict(X_val)))"
   ]
  },
  {
   "cell_type": "raw",
   "id": "2bbf6cf1-acdc-4277-8da4-b6ce19dd7192",
   "metadata": {},
   "source": [
    "SUPPORT VECTOR CLASSIFIER (SVC)"
   ]
  },
  {
   "cell_type": "code",
   "execution_count": 19,
   "id": "df43d556-3d24-498d-af5c-4a80e46c13e8",
   "metadata": {},
   "outputs": [
    {
     "name": "stdout",
     "output_type": "stream",
     "text": [
      "Support vector classifier (SVC) :\n",
      "Training Accuracy (ROC AUC): 0.7104512959957897\n",
      "Validation Accuracy (ROC AUC): 0.8146718146718146\n",
      "F1 Score: 0.7272727272727273\n",
      "Accuracy: 0.6470588235294118\n",
      "Precision: 0.8275862068965517\n",
      "Recall: 0.6486486486486487\n"
     ]
    }
   ],
   "source": [
    "svc=SVC(kernel='rbf', probability=True)\n",
    "svc.fit(X, Y)\n",
    "    \n",
    "print('Support vector classifier (SVC) :')\n",
    "    \n",
    "# Predict probabilities for training set \n",
    "train_preds = svc.predict_proba(X)[:, 1]\n",
    "print('Training Accuracy (ROC AUC):', ras(Y, train_preds))\n",
    "   \n",
    "# Predict probabilities for validation set\n",
    "val_preds = svc.predict_proba(X_val)[:, 1]\n",
    "print('Validation Accuracy (ROC AUC):', ras(Y_val, val_preds_prob))\n",
    "\n",
    "#Get the F1 Score\n",
    "val_preds=svc.predict(X_val)\n",
    "svc_f1=f1_score(Y_val,val_preds)\n",
    "print('F1 Score:', svc_f1)\n",
    "\n",
    "#Get the accuracy\n",
    "svc_acc=accuracy_score(Y_val,val_preds)\n",
    "print('Accuracy:', svc_acc)\n",
    "\n",
    "#Get the precision\n",
    "svc_pre=precision_score(Y_val,val_preds)\n",
    "print('Precision:', svc_pre)\n",
    "\n",
    "#Get the recall\n",
    "svc_rec=recall_score(Y_val,val_preds)\n",
    "print('Recall:', svc_rec)"
   ]
  },
  {
   "cell_type": "code",
   "execution_count": 20,
   "id": "ac532182-a5c0-49d7-82f8-b9fe9159998b",
   "metadata": {},
   "outputs": [
    {
     "data": {
      "image/png": "[encoded data removed]",
      "text/plain": [
       "<Figure size 640x480 with 2 Axes>"
      ]
     },
     "metadata": {},
     "output_type": "display_data"
    }
   ],
   "source": [
    "# Compute confusion matrix\n",
    "cm = confusion_matrix(Y_val, svc.predict(X_val))\n",
    "\n",
    "# Plot using seaborn heatmap\n",
    "sb.heatmap(cm, annot=True, fmt='d', cmap='Blues')\n",
    "plt.xlabel('Predicted')\n",
    "plt.ylabel('True')\n",
    "plt.title('Confusion Matrix for Support Vector Classifier (SVC)')\n",
    "plt.show()"
   ]
  },
  {
   "cell_type": "code",
   "execution_count": 21,
   "id": "68569975-4a7a-404e-b4a1-1c46807c30d9",
   "metadata": {},
   "outputs": [
    {
     "name": "stdout",
     "output_type": "stream",
     "text": [
      "Classification report for Support Vector Classifier (SVC):\n",
      "              precision    recall  f1-score   support\n",
      "\n",
      "         0.0       0.41      0.64      0.50        14\n",
      "         1.0       0.83      0.65      0.73        37\n",
      "\n",
      "    accuracy                           0.65        51\n",
      "   macro avg       0.62      0.65      0.61        51\n",
      "weighted avg       0.71      0.65      0.66        51\n",
      "\n"
     ]
    }
   ],
   "source": [
    "print('Classification report for Support Vector Classifier (SVC):')\n",
    "print(metrics.classification_report(Y_val, svc.predict(X_val)))"
   ]
  },
  {
   "cell_type": "markdown",
   "id": "4fccd570-c92d-44b2-8013-cf20ed1fb8af",
   "metadata": {},
   "source": [
    "K NEAREST NEIGHBOURS CLASSIFIER (KNN)"
   ]
  },
  {
   "cell_type": "code",
   "execution_count": 22,
   "id": "0e5f02e9-515c-4328-9800-da655eb83839",
   "metadata": {},
   "outputs": [
    {
     "name": "stdout",
     "output_type": "stream",
     "text": [
      "K Nearest Neighbours classifier (KNN) :\n",
      "Training Accuracy (ROC AUC): 0.9296302793737117\n",
      "Validation Accuracy (ROC AUC): 0.8146718146718146\n",
      "F1 Score: 0.7428571428571429\n",
      "Accuracy: 0.6470588235294118\n",
      "Precision: 0.7878787878787878\n",
      "Recall: 0.7027027027027027\n"
     ]
    }
   ],
   "source": [
    "knn=KNeighborsClassifier(n_neighbors=5)\n",
    "knn.fit(X,Y)\n",
    "\n",
    "print('K Nearest Neighbours classifier (KNN) :')\n",
    "    \n",
    "# Predict probabilities for training set \n",
    "train_preds = knn.predict_proba(X)[:, 1]\n",
    "print('Training Accuracy (ROC AUC):', ras(Y, train_preds))\n",
    "   \n",
    "# Predict probabilities for validation set\n",
    "val_preds = knn.predict_proba(X_val)[:, 1]\n",
    "print('Validation Accuracy (ROC AUC):', ras(Y_val, val_preds_prob))\n",
    "\n",
    "#Get the F1 Score\n",
    "val_preds=knn.predict(X_val)\n",
    "knn_f1=f1_score(Y_val,val_preds)\n",
    "print('F1 Score:', knn_f1)\n",
    "\n",
    "#Get the accuracy\n",
    "knn_acc=accuracy_score(Y_val,val_preds)\n",
    "print('Accuracy:', knn_acc)\n",
    "\n",
    "#Get the precision\n",
    "knn_pre=precision_score(Y_val,val_preds)\n",
    "print('Precision:', knn_pre)\n",
    "\n",
    "#Get the recall\n",
    "knn_rec=recall_score(Y_val,val_preds)\n",
    "print('Recall:', knn_rec)"
   ]
  },
  {
   "cell_type": "code",
   "execution_count": 23,
   "id": "278e6f9b-67ad-4cbb-8fa1-453cd1ad0a07",
   "metadata": {},
   "outputs": [
    {
     "data": {
      "image/png": "[encoded data removed]",
      "text/plain": [
       "<Figure size 640x480 with 2 Axes>"
      ]
     },
     "metadata": {},
     "output_type": "display_data"
    }
   ],
   "source": [
    "# Compute confusion matrix\n",
    "cm = confusion_matrix(Y_val, knn.predict(X_val))\n",
    "\n",
    "# Plot using seaborn heatmap\n",
    "sb.heatmap(cm, annot=True, fmt='d', cmap='Blues')\n",
    "plt.xlabel('Predicted')\n",
    "plt.ylabel('True')\n",
    "plt.title('Confusion Matrix for K Nearest Neighbours Classifier (KNN)')\n",
    "plt.show()"
   ]
  },
  {
   "cell_type": "code",
   "execution_count": 24,
   "id": "7fd91679-424d-41c0-8c79-4c44e16b8f4e",
   "metadata": {},
   "outputs": [
    {
     "name": "stdout",
     "output_type": "stream",
     "text": [
      "Classification report for K Nearest Neighbours classifier (KNN):\n",
      "              precision    recall  f1-score   support\n",
      "\n",
      "         0.0       0.39      0.50      0.44        14\n",
      "         1.0       0.79      0.70      0.74        37\n",
      "\n",
      "    accuracy                           0.65        51\n",
      "   macro avg       0.59      0.60      0.59        51\n",
      "weighted avg       0.68      0.65      0.66        51\n",
      "\n"
     ]
    }
   ],
   "source": [
    "print('Classification report for K Nearest Neighbours classifier (KNN):')\n",
    "print(metrics.classification_report(Y_val, knn.predict(X_val)))"
   ]
  },
  {
   "cell_type": "markdown",
   "id": "04d9a69c-03ec-4892-8eed-d3630f0fa15d",
   "metadata": {},
   "source": [
    "GAUSSIAN NAIVE BAYES (GNB)"
   ]
  },
  {
   "cell_type": "code",
   "execution_count": 25,
   "id": "9681ae4c-22f0-4414-a63d-48de4220bed9",
   "metadata": {},
   "outputs": [
    {
     "name": "stdout",
     "output_type": "stream",
     "text": [
      "Gaussian Naive Bayes classifier (GNB) :\n",
      "Training Accuracy (ROC AUC): 0.8476382614797596\n",
      "Validation Accuracy (ROC AUC): 0.8146718146718146\n",
      "F1 Score: 0.8860759493670886\n",
      "Accuracy: 0.8235294117647058\n",
      "Precision: 0.8333333333333334\n",
      "Recall: 0.9459459459459459\n"
     ]
    }
   ],
   "source": [
    "gnb=GaussianNB()\n",
    "gnb.fit(X,Y)\n",
    "\n",
    "print('Gaussian Naive Bayes classifier (GNB) :')\n",
    "    \n",
    "# Predict probabilities for training set\n",
    "train_preds = gnb.predict_proba(X)[:, 1]\n",
    "print('Training Accuracy (ROC AUC):', ras(Y, train_preds))\n",
    "\n",
    "# Predict probabilities for validation set\n",
    "val_preds = gnb.predict_proba(X_val)[:, 1]\n",
    "print('Validation Accuracy (ROC AUC):', ras(Y_val, val_preds_prob))\n",
    "\n",
    "#Get F1 Score\n",
    "val_preds=gnb.predict(X_val)\n",
    "gnb_f1=f1_score(Y_val,val_preds)\n",
    "print('F1 Score:', gnb_f1)\n",
    "\n",
    "#Get the accuracy\n",
    "gnb_acc=accuracy_score(Y_val,val_preds)\n",
    "print('Accuracy:', gnb_acc)\n",
    "\n",
    "#Get the precision\n",
    "gnb_pre=precision_score(Y_val,val_preds)\n",
    "print('Precision:', gnb_pre)\n",
    "\n",
    "#Get the recall\n",
    "gnb_rec=recall_score(Y_val,val_preds)\n",
    "print('Recall:', gnb_rec)"
   ]
  },
  {
   "cell_type": "code",
   "execution_count": 26,
   "id": "d8c1fa98-1ab5-41dd-821e-a7fc5f481fec",
   "metadata": {},
   "outputs": [
    {
     "data": {
      "image/png": "[encoded data removed]",
      "text/plain": [
       "<Figure size 640x480 with 2 Axes>"
      ]
     },
     "metadata": {},
     "output_type": "display_data"
    }
   ],
   "source": [
    "# Compute confusion matrix\n",
    "cm = confusion_matrix(Y_val, gnb.predict(X_val))\n",
    "\n",
    "# Plot using seaborn heatmap\n",
    "sb.heatmap(cm, annot=True, fmt='d', cmap='Blues')\n",
    "plt.xlabel('Predicted')\n",
    "plt.ylabel('True')\n",
    "plt.title('Confusion Matrix for Gaussian Naive Bayes classifier (GNB)')\n",
    "plt.show()"
   ]
  },
  {
   "cell_type": "code",
   "execution_count": 27,
   "id": "333a5b15-af2e-41f7-a1a0-1170181aa825",
   "metadata": {},
   "outputs": [
    {
     "name": "stdout",
     "output_type": "stream",
     "text": [
      "Classification report for Gaussian Naive Bayes classifier (GNB):\n",
      "              precision    recall  f1-score   support\n",
      "\n",
      "         0.0       0.78      0.50      0.61        14\n",
      "         1.0       0.83      0.95      0.89        37\n",
      "\n",
      "    accuracy                           0.82        51\n",
      "   macro avg       0.81      0.72      0.75        51\n",
      "weighted avg       0.82      0.82      0.81        51\n",
      "\n"
     ]
    }
   ],
   "source": [
    "print('Classification report for Gaussian Naive Bayes classifier (GNB):')\n",
    "print(metrics.classification_report(Y_val, gnb.predict(X_val)))"
   ]
  },
  {
   "cell_type": "markdown",
   "id": "bb92b075-4640-4b1b-bed6-1d173be40f35",
   "metadata": {},
   "source": [
    "BAR GRAPH SHOWING THE F1 SCORE OF THE MODELS USED"
   ]
  },
  {
   "cell_type": "code",
   "execution_count": 28,
   "id": "8b4cb70e-9d41-48cd-a7fc-fff833949692",
   "metadata": {},
   "outputs": [
    {
     "data": {
      "image/png": "[encoded data removed]",
      "text/plain": [
       "<Figure size 800x600 with 1 Axes>"
      ]
     },
     "metadata": {},
     "output_type": "display_data"
    }
   ],
   "source": [
    "model_names = ['Logistic Regression', 'SVC', 'KNN', 'Naive Bayes']\n",
    "f1_scores = [lr_f1,svc_f1,knn_f1,gnb_f1]  \n",
    "\n",
    "plt.figure(figsize=(8, 6))\n",
    "plt.bar(model_names, f1_scores, color=['blue', 'green', 'orange', 'purple'])\n",
    "plt.xlabel('Models', fontsize=12)\n",
    "plt.ylabel('F1 Score', fontsize=12)\n",
    "plt.title('F1 scores of Different Models', fontsize=14)\n",
    "plt.ylim(0, 1)  # Set y-axis range to 0-1 for percentage scale\n",
    "plt.grid(axis='y', linestyle='--')\n",
    "\n",
    "plt.show()\n"
   ]
  },
  {
   "cell_type": "markdown",
   "id": "ececa0fa-ff31-4dec-ae7f-0f606933ae8b",
   "metadata": {},
   "source": [
    "BAR GRAPH SHOWING THE ACCURACY OF THE MODELS USED"
   ]
  },
  {
   "cell_type": "code",
   "execution_count": 29,
   "id": "7477bea8-fee4-46c9-87ad-98770866da87",
   "metadata": {},
   "outputs": [
    {
     "data": {
      "image/png": "[encoded data removed]",
      "text/plain": [
       "<Figure size 800x600 with 1 Axes>"
      ]
     },
     "metadata": {},
     "output_type": "display_data"
    }
   ],
   "source": [
    "model_names = ['Logistic Regression', 'SVC', 'KNN', 'Naive Bayes']\n",
    "accuracies = [lr_acc,svc_acc,knn_acc,gnb_acc]  \n",
    "\n",
    "plt.figure(figsize=(8, 6))\n",
    "plt.bar(model_names, accuracies, color=['blue', 'green', 'orange', 'purple'])\n",
    "plt.xlabel('Models', fontsize=12)\n",
    "plt.ylabel('Accuracy', fontsize=12)\n",
    "plt.title('Accuracy of Different Models', fontsize=14)\n",
    "plt.ylim(0, 1)  # Set y-axis range to 0-1 for percentage scale\n",
    "plt.grid(axis='y', linestyle='--')\n",
    "\n",
    "plt.show()"
   ]
  },
  {
   "cell_type": "markdown",
   "id": "14022dc6-1051-4777-a531-668680fe99f4",
   "metadata": {},
   "source": [
    "BAR GRAPH SHOWING THE PRECISION OF THE MODELS USED"
   ]
  },
  {
   "cell_type": "code",
   "execution_count": 30,
   "id": "89feae7e-bc30-44bc-a753-75d9a1d38b6f",
   "metadata": {},
   "outputs": [
    {
     "data": {
      "image/png": "[encoded data removed]",
      "text/plain": [
       "<Figure size 800x600 with 1 Axes>"
      ]
     },
     "metadata": {},
     "output_type": "display_data"
    }
   ],
   "source": [
    "model_names = ['Logistic Regression', 'SVC', 'KNN', 'Naive Bayes']\n",
    "precision = [lr_pre,svc_pre,knn_pre,gnb_pre]  \n",
    "\n",
    "plt.figure(figsize=(8, 6))\n",
    "plt.bar(model_names, precision, color=['blue', 'green', 'orange', 'purple'])\n",
    "plt.xlabel('Models', fontsize=12)\n",
    "plt.ylabel('Precision', fontsize=12)\n",
    "plt.title('Precision of Different Models', fontsize=14)\n",
    "plt.ylim(0, 1)  # Set y-axis range to 0-1 for percentage scale\n",
    "plt.grid(axis='y', linestyle='--')\n",
    "\n",
    "plt.show()"
   ]
  },
  {
   "cell_type": "markdown",
   "id": "69a46db6-a6de-42d8-a258-4e93fc6004d4",
   "metadata": {},
   "source": [
    "BAR GRAPH SHOWING THE RECALL OF THE MODELS USED"
   ]
  },
  {
   "cell_type": "code",
   "execution_count": 31,
   "id": "68f4628c-743f-47c6-ace2-b931f4f9d563",
   "metadata": {},
   "outputs": [
    {
     "data": {
      "image/png": "[encoded data removed]",
      "text/plain": [
       "<Figure size 800x600 with 1 Axes>"
      ]
     },
     "metadata": {},
     "output_type": "display_data"
    }
   ],
   "source": [
    "model_names = ['Logistic Regression', 'SVC', 'KNN', 'Naive Bayes']\n",
    "recalls = [lr_rec,svc_rec,knn_rec,gnb_rec]  \n",
    "\n",
    "plt.figure(figsize=(8, 6))\n",
    "plt.bar(model_names, recalls, color=['blue', 'green', 'orange', 'purple'])\n",
    "plt.xlabel('Models', fontsize=12)\n",
    "plt.ylabel('Recall', fontsize=12)\n",
    "plt.title('Recall of Different Models', fontsize=14)\n",
    "plt.ylim(0, 1)  # Set y-axis range to 0-1 for percentage scale\n",
    "plt.grid(axis='y', linestyle='--')\n",
    "\n",
    "plt.show()"
   ]
  },
  {
   "cell_type": "markdown",
   "id": "d54d54c4-d654-499f-b5fd-4ef30166908a",
   "metadata": {},
   "source": [
    "The following conclusions can be made based on the above graphs and values:\n"
   ]
  },
  {
   "cell_type": "markdown",
   "id": "38883dfe-6c16-4c02-b907-f1916ece3f86",
   "metadata": {},
   "source": [
    "a)Logistic regression has the highest accuracy(0.88), precision(0.90) and F1 Score(0.92)."
   ]
  },
  {
   "cell_type": "markdown",
   "id": "e4ac9a40-bb99-40c2-b056-753f0afd4f54",
   "metadata": {},
   "source": [
    "b)Logistic regression and naive bayes have the same recall value (0.95)"
   ]
  },
  {
   "cell_type": "markdown",
   "id": "c70d6c9d-e5d8-491d-9b79-e2ff61610581",
   "metadata": {},
   "source": [
    "c)Based on the above observations Logistic Regression can be said to be well-suited for early detection of Parkinson's Disease from speech features."
   ]
  },
  {
   "cell_type": "markdown",
   "id": "84855cb6-57fc-45fb-9f3b-eda6348f5544",
   "metadata": {},
   "source": [
    "d)The second best is the naive bayes model which is followed by K Nearest neighbours and the least is Support vector machine. Although it can be observed that the evaluation metrics of the KNN model and the SVC model are more or less similar."
   ]
  },
  {
   "cell_type": "code",
   "execution_count": null,
   "id": "29f79f71-8f84-4cd1-8de9-a507098cf5f8",
   "metadata": {},
   "outputs": [],
   "source": []
  }
 ],
 "metadata": {
  "kernelspec": {
   "display_name": "Python 3 (ipykernel)",
   "language": "python",
   "name": "python3"
  },
  "language_info": {
   "codemirror_mode": {
    "name": "ipython",
    "version": 3
   },
   "file_extension": ".py",
   "mimetype": "text/x-python",
   "name": "python",
   "nbconvert_exporter": "python",
   "pygments_lexer": "ipython3",
   "version": "3.12.4"
  }
 },
 "nbformat": 4,
 "nbformat_minor": 5
}
